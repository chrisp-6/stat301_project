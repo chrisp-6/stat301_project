{
 "cells": [
  {
   "cell_type": "markdown",
   "id": "6c53b69e-7674-4547-ab61-c10acc0783e6",
   "metadata": {},
   "source": [
    "# Predicting Age Using Significant Explanatory Variables"
   ]
  },
  {
   "cell_type": "markdown",
   "id": "02464281-ee99-4163-bc99-7f1613f0dec5",
   "metadata": {},
   "source": [
    "## Introduction\n",
    "\n",
    "Various factors may contribute to estimating a person’s age. Factors which may be associated with age include employment status, education level, and/or marital status. According to Statistics Canada, 15 to 24 were the most likely to work part-time, followed by workers aged 55 and older. People in the core working ages of 25 to 54 were the least likely to be part-time. Additionally, women were twice as likely as men to work part-time. These part-time rates have been relatively stable over the last 20 years (Patterson, 2018). A 2013 study published by the US Bureau of Labor Statistics found that marriage patterns differed markedly by age at marriage and by educational attainment (Aughinbaugh et al., 2013).\n",
    "\n",
    "The data we will be using was collected by Ronny Kohavi and Barry Becker, and extracted from the 1994 Census bureau database. This data contains several variables: age (17 and up), education level (preschool and above), marital status, relationship status, race, gender, occupation, weekly working hours, etc. We will be focusing on the prediction of average age in our project. \n",
    "\n",
    "Using this dataset, we will answer the following question:\n",
    "\n",
    "> **“What is the predicted average age of an adult based on significant explanatory variables?”**"
   ]
  },
  {
   "cell_type": "markdown",
   "id": "d80e6691-2b70-4e27-9577-6cb24d6972ac",
   "metadata": {},
   "source": [
    "## Exploratory Data Analysis"
   ]
  },
  {
   "cell_type": "code",
   "execution_count": 1,
   "id": "499e7d5a-ce99-47c9-ab94-55f84db3cc89",
   "metadata": {},
   "outputs": [
    {
     "name": "stderr",
     "output_type": "stream",
     "text": [
      "Registered S3 methods overwritten by 'ggplot2':\n",
      "  method         from \n",
      "  [.quosures     rlang\n",
      "  c.quosures     rlang\n",
      "  print.quosures rlang\n",
      "\n",
      "Registered S3 method overwritten by 'rvest':\n",
      "  method            from\n",
      "  read_xml.response xml2\n",
      "\n",
      "-- \u001b[1mAttaching packages\u001b[22m ------------------------------------------------------------------------------- tidyverse 1.2.1 --\n",
      "\n",
      "\u001b[32mv\u001b[39m \u001b[34mggplot2\u001b[39m 3.1.1       \u001b[32mv\u001b[39m \u001b[34mpurrr  \u001b[39m 0.3.2  \n",
      "\u001b[32mv\u001b[39m \u001b[34mtibble \u001b[39m 2.1.1       \u001b[32mv\u001b[39m \u001b[34mdplyr  \u001b[39m 0.8.0.\u001b[31m1\u001b[39m\n",
      "\u001b[32mv\u001b[39m \u001b[34mtidyr  \u001b[39m 0.8.3       \u001b[32mv\u001b[39m \u001b[34mstringr\u001b[39m 1.4.0  \n",
      "\u001b[32mv\u001b[39m \u001b[34mreadr  \u001b[39m 1.3.1       \u001b[32mv\u001b[39m \u001b[34mforcats\u001b[39m 0.4.0  \n",
      "\n",
      "-- \u001b[1mConflicts\u001b[22m ---------------------------------------------------------------------------------- tidyverse_conflicts() --\n",
      "\u001b[31mx\u001b[39m \u001b[34mdplyr\u001b[39m::\u001b[32mfilter()\u001b[39m masks \u001b[34mstats\u001b[39m::filter()\n",
      "\u001b[31mx\u001b[39m \u001b[34mdplyr\u001b[39m::\u001b[32mlag()\u001b[39m    masks \u001b[34mstats\u001b[39m::lag()\n",
      "\n"
     ]
    },
    {
     "ename": "ERROR",
     "evalue": "Error in library(GGally): there is no package called 'GGally'\n",
     "output_type": "error",
     "traceback": [
      "Error in library(GGally): there is no package called 'GGally'\nTraceback:\n",
      "1. library(GGally)"
     ]
    }
   ],
   "source": [
    "library(tidyverse)\n",
    "library(readr)\n",
    "library(ggplot2)\n",
    "library(repr)\n",
    "library(GGally)\n",
    "library(broom)\n",
    "library(repr)\n",
    "library(digest)\n",
    "library(infer)\n",
    "library(gridExtra)"
   ]
  },
  {
   "cell_type": "markdown",
   "id": "0e82e544",
   "metadata": {},
   "source": [
    "## Exploratory Data Analysis"
   ]
  },
  {
   "cell_type": "code",
   "execution_count": null,
   "id": "b1c8cdf8",
   "metadata": {},
   "outputs": [],
   "source": [
    "adult_census <- read.csv('https://raw.githubusercontent.com/chrisp-6/stat301_project/main/adult.csv')\n",
    "head(adult_census)\n",
    "\n",
    "# data from https://www.kaggle.com/datasets/uciml/adult-census-income, downloaded locally first and added to github"
   ]
  },
  {
   "cell_type": "markdown",
   "id": "8fad3a6f-a4ac-4d94-bb36-0bd896b07fe3",
   "metadata": {},
   "source": [
    "We realized some of the variables within the dataset are missing and replaced with \"?\". Therefore, we improve our dataset by removing those rows conatining missing variables."
   ]
  },
  {
   "cell_type": "code",
   "execution_count": null,
   "id": "39a2f912-8ceb-4bf9-8554-2be78f5b747a",
   "metadata": {},
   "outputs": [],
   "source": [
    "adult_census <- adult_census[which(adult_census$age != \"?\"),]\n",
    "adult_census <- adult_census[which(adult_census$workclass != \"?\"),]\n",
    "adult_census <- adult_census[which(adult_census$fnlwgt != \"?\"),]\n",
    "adult_census <- adult_census[which(adult_census$education != \"?\"),]\n",
    "adult_census <- adult_census[which(adult_census$education.num != \"?\"),]\n",
    "adult_census <- adult_census[which(adult_census$marital.status != \"?\"),]\n",
    "adult_census <- adult_census[which(adult_census$occupation != \"?\"),]\n",
    "adult_census <- adult_census[which(adult_census$relationship != \"?\"),]\n",
    "adult_census <- adult_census[which(adult_census$race != \"?\"),]\n",
    "adult_census <- adult_census[which(adult_census$sex != \"?\"),]\n",
    "adult_census <- adult_census[which(adult_census$capital.gain != \"?\"),]\n",
    "adult_census <- adult_census[which(adult_census$capital.loss != \"?\"),]\n",
    "adult_census <- adult_census[which(adult_census$hours.per.week != \"?\"),]\n",
    "adult_census <- adult_census[which(adult_census$native.country != \"?\"),]\n",
    "adult_census <- adult_census[which(adult_census$income != \"?\"),]\n",
    "head(adult_census)"
   ]
  },
  {
   "cell_type": "code",
   "execution_count": null,
   "id": "4b73547e",
   "metadata": {},
   "outputs": [],
   "source": [
    "nrow(adult_census)"
   ]
  },
  {
   "cell_type": "code",
   "execution_count": null,
   "id": "0ec1a774",
   "metadata": {},
   "outputs": [],
   "source": [
    "# transforming character columns to factors\n",
    "adult_census <- adult_census %>% mutate_if(is.character, as.factor)\n",
    "head(adult_census)"
   ]
  },
  {
   "cell_type": "code",
   "execution_count": null,
   "id": "e6b554dd",
   "metadata": {},
   "outputs": [],
   "source": [
    "# a summary of the data set\n",
    "\n",
    "summary(adult_census)"
   ]
  },
  {
   "cell_type": "markdown",
   "id": "223857f5",
   "metadata": {},
   "source": [
    "Some factors that we think should be associated with age:\n",
    "\n",
    "- Education level (`education` and `education.num`)\n",
    "- Marital status\n",
    "- Income level"
   ]
  },
  {
   "cell_type": "code",
   "execution_count": null,
   "id": "dd612743",
   "metadata": {},
   "outputs": [],
   "source": [
    "education_plot <- ggplot(adult_census, aes(x=education, y = age, fill = education)) +\n",
    "geom_boxplot() +\n",
    "labs(x= \"Highest Education Level Completed\", y=\"Age (years)\", title= \"Age by Education Level\") +\n",
    "theme(axis.text.x = element_text(angle = 90, vjust = 0.5, hjust = 1))\n",
    "education_plot"
   ]
  },
  {
   "cell_type": "markdown",
   "id": "02308568",
   "metadata": {},
   "source": [
    "We can see that the age, and the distribution of the age, does appear to vary by the education level completed, with lower education level completed appeart to be slightly associated to lower median age."
   ]
  },
  {
   "cell_type": "code",
   "execution_count": null,
   "id": "ff071c1d",
   "metadata": {},
   "outputs": [],
   "source": [
    "marriage_plot <- ggplot(adult_census, aes(x=marital.status, y = age, fill = marital.status)) +\n",
    "geom_boxplot() +\n",
    "labs(x= \"Marital Status\", y=\"Age (years)\", title= \"Age by Marital Status\") +\n",
    "theme(axis.text.x = element_text(angle = 90, vjust = 0.5, hjust = 1))\n",
    "marriage_plot"
   ]
  },
  {
   "cell_type": "markdown",
   "id": "6847cfcb",
   "metadata": {},
   "source": [
    "The distribution of age varies by marital status more significantly. The oldest group appears to be the widowed group, which makes sense if people are largely dying of old age. The youngest group appears to generally be the never married group, which also makes sense based on the fact that young people may not have had the chance to get married. "
   ]
  },
  {
   "cell_type": "code",
   "execution_count": null,
   "id": "2330ce97-0d09-49f2-a1a1-8f7930d685c1",
   "metadata": {},
   "outputs": [],
   "source": [
    "income_plot <- \n",
    "    ggplot(adult_census, aes(x = income, y = age, fill = income)) +\n",
    "    geom_boxplot() +\n",
    "    labs(x= \"Income Levels\", y = \"Age (years)\", title = \"Age Distrubition by Income Levels\") +\n",
    "    theme(axis.text.x = element_text(angle = 90, vjust = 0.5, hjust = 1))\n",
    "\n",
    "income_plot"
   ]
  },
  {
   "cell_type": "markdown",
   "id": "44873e03-1615-4f99-8775-6e7df27e5fce",
   "metadata": {},
   "source": [
    "As we can see the age distribution by two income levels, people making more than 50k are relatively younger than people making same or less than 50k, showing that the salary increases with age."
   ]
  },
  {
   "cell_type": "markdown",
   "id": "ae15ddc0",
   "metadata": {},
   "source": [
    "Some factors which we don't expect to be closely associated with age:\n",
    "\n",
    "- sex\n",
    "- race"
   ]
  },
  {
   "cell_type": "code",
   "execution_count": null,
   "id": "bad9ac2e",
   "metadata": {},
   "outputs": [],
   "source": [
    "age_sex_plot <- ggplot(adult_census, aes(x=age, fill = sex)) +\n",
    "geom_histogram() +\n",
    "labs(x= \"Age\", y=\"Count\", title= \"Distribution of Age by Sex\") +\n",
    "theme(axis.text.x = element_text(angle = 90, vjust = 0.5, hjust = 1))\n",
    "age_sex_plot"
   ]
  },
  {
   "cell_type": "markdown",
   "id": "27e26f83",
   "metadata": {},
   "source": [
    "There appear to be more females than males, but the proportions appear to remain fairly consistent across all ages."
   ]
  },
  {
   "cell_type": "code",
   "execution_count": null,
   "id": "6eecee51",
   "metadata": {},
   "outputs": [],
   "source": [
    "race_plot <- ggplot(adult_census, aes(x=race, y = age, fill = race)) +\n",
    "geom_boxplot() +\n",
    "labs(x= \"Race\", y=\"Age (years)\", title= \"Age Distrubition by Race\") +\n",
    "theme(axis.text.x = element_text(angle = 90, vjust = 0.5, hjust = 1))\n",
    "race_plot"
   ]
  },
  {
   "cell_type": "markdown",
   "id": "2b2fe480",
   "metadata": {},
   "source": [
    "Median age and the range all appear fairly similar across all race groups"
   ]
  },
  {
   "cell_type": "markdown",
   "id": "0cbd7400",
   "metadata": {},
   "source": [
    "Some factors we are less sure about:\n",
    "\n",
    "- hours worked\n",
    "- capital gain and capital loss"
   ]
  },
  {
   "cell_type": "code",
   "execution_count": null,
   "id": "4bb63b94",
   "metadata": {},
   "outputs": [],
   "source": [
    "hours_plot <- ggplot(adult_census, aes(x=hours.per.week, y = age)) +\n",
    "geom_point() +\n",
    "labs(x= \"Hours Worked per Week\", y=\"Age (years)\", title= \"Hours Worked per Week vs Age\") +\n",
    "theme(axis.text.x = element_text(angle = 90, vjust = 0.5, hjust = 1))\n",
    "hours_plot"
   ]
  },
  {
   "cell_type": "markdown",
   "id": "fb1ffe76",
   "metadata": {},
   "source": [
    "At first glance, there is no apparent correlation between hours per week and age."
   ]
  },
  {
   "cell_type": "code",
   "execution_count": null,
   "id": "2e84a9b6",
   "metadata": {},
   "outputs": [],
   "source": [
    "capital_loss_plot <- ggplot(adult_census, aes(x=capital.loss, y = age)) +\n",
    "geom_point() +\n",
    "labs(x= \"Capital loss\", y=\"Age (years)\") +\n",
    "theme(axis.text.x = element_text(angle = 90, vjust = 0.5, hjust = 1))\n",
    "capital_loss_plot\n",
    "\n",
    "capital_gain_plot <- ggplot(adult_census, aes(x=capital.gain, y = age)) +\n",
    "geom_point() +\n",
    "labs(x= \"Capital Gain\", y=\"Age (years)\") +\n",
    "theme(axis.text.x = element_text(angle = 90, vjust = 0.5, hjust = 1))\n",
    "capital_gain_plot"
   ]
  },
  {
   "cell_type": "markdown",
   "id": "3132e046",
   "metadata": {},
   "source": [
    "Capital gain does not appear to have much correlation with age, but capital loss appears to increase as the age increases in the upper age range."
   ]
  },
  {
   "cell_type": "markdown",
   "id": "30c28f12-14c6-4226-a91a-38afc50cf5f9",
   "metadata": {},
   "source": [
    "## Methods: Plan\n",
    "\n",
    "Firstly, we will split our data to obtain a training set and a testing set containing 60% and 40% of the observations respectively. Then, we create a multi-linear regression model with our training set by including all the input variables. Afterwards, we will use the function `predict()` to predict our testing set. Then, we will compute the RMSE of the model. \n",
    "\n",
    "After obtaining the RMSE, we will perform model selection by using the forward method to select our best optimal model because some variables are insignificant within our data. Since our goal here is to estimate the average age, we would need a prediction model. Hence, we determine our best optimal model by looking at the Cp value.\n",
    "\n",
    "After we select our best model, we will use the `predict()` function again to predict the testing set and calculate the RMSE. We will then compare the RMSE of both the full model and the newly predicted optimal model, as well as perform the F-test to determine which is better. After we finish determining the best model, we will use it to predict the average age and the 95% confidence interval for prediction (CIP). Since our prediction is used to predict the average age using statistically significant variables, we would have one variation which is the difference between our prediction and the average age of the population.  Finally, we can use our predictive model to predict out-of-sample data.\n",
    "\n",
    "Our goal here is to build a model that can be used to predict the average age using the statistically significant input variables that we selected by using the forward method. We want to achieve precise prediction by selecting the most optimal model of best fit with the minimum RMSE.\n",
    "\n",
    "Since our goal is to predict the estimated average age from significant input variables, our results can be used by insurance companies and used for marketing purposes to target specific age groups. It can also be used by governments or even individuals for allocation and other purposes."
   ]
  },
  {
   "cell_type": "markdown",
   "id": "bac94dab-0483-41a4-8962-5c60e7c9d8d3",
   "metadata": {},
   "source": [
    "## Procedure "
   ]
  },
  {
   "cell_type": "markdown",
   "id": "e17a2cd1-dda2-4920-a0fa-c0ab42be7bb3",
   "metadata": {},
   "source": [
    "First we select the input variables that we need."
   ]
  },
  {
   "cell_type": "code",
   "execution_count": null,
   "id": "47f16313-9262-4ee6-aadd-1a022b12daf7",
   "metadata": {},
   "outputs": [],
   "source": [
    "adult_census <- adult_census %>% \n",
    "                select(age,education.num,marital.status,race,sex,capital.gain,capital.loss,hours.per.week)\n",
    "head(adult_census)"
   ]
  },
  {
   "cell_type": "markdown",
   "id": "875a78f4-1683-4f31-9d3e-5addc4b5e7b0",
   "metadata": {},
   "source": [
    "Note here we removed education and only left with education number since the higher the education number, the more educated they are."
   ]
  },
  {
   "cell_type": "markdown",
   "id": "66570de3-92cb-4896-816d-152dd0b374ee",
   "metadata": {},
   "source": [
    "We now break them into training set and testing set with 60% and 40% respectively"
   ]
  },
  {
   "cell_type": "code",
   "execution_count": null,
   "id": "b08f1471-8bfb-4367-9eaf-772af043d801",
   "metadata": {},
   "outputs": [],
   "source": [
    "training_set <- sample_n(adult_census, size = nrow(adult_census) * 0.60, replace = FALSE) \n",
    "testing_set <- anti_join(adult_census, training_set) \n",
    "\n",
    "head(training_set)\n",
    "head(testing_set)"
   ]
  },
  {
   "cell_type": "markdown",
   "id": "12425714-3e24-4b5a-8424-2b6c09ef220b",
   "metadata": {},
   "source": [
    "Create an additive MLR using all input variables using the training set by using the lm() and tidy()."
   ]
  },
  {
   "cell_type": "code",
   "execution_count": null,
   "id": "31b1c4ec-8c78-43c0-93e6-e5060fad1a9d",
   "metadata": {},
   "outputs": [],
   "source": [
    "addtive_MLR_training_OLS <- lm(age~ .,data = training_set)\n",
    "head(tidy(addtive_MLR_training_OLS))"
   ]
  },
  {
   "cell_type": "code",
   "execution_count": null,
   "id": "e4da437f-fb55-413d-8bc9-1a76fdf11cce",
   "metadata": {},
   "outputs": [],
   "source": [
    "R_MSE_model_1 <- tibble(Model = \"OLS Full Regression\",  \n",
    " R_MSE = rmse(preds = test_pred_full_OLS,      \n",
    " actuals = testing_Data$y) )"
   ]
  },
  {
   "cell_type": "markdown",
   "id": "f77df79d-4746-45cc-b76d-875754654fd4",
   "metadata": {},
   "source": [
    "## References\n",
    "\n",
    "Aughinbaugh, A., Robles, O., & Sun, H. (2013). Marriage and divorce: Patterns by gender, race, and educational attainment. Monthly Labor Review. https://doi.org/10.21916/mlr.2013.32\n",
    "\n",
    "Kohavi, R. & Becker, B. (1994). Adult Census Income [census report] Retrieved November 1st, 2022, from Kaggle. https://www.kaggle.com/datasets/uciml/adult-census-income?search=cite\n",
    "\n",
    "Patterson, M. (2018, November 6). Who works part time and why? Statistics Canada. Retrieved November 4, 2022, from https://www150.statcan.gc.ca/n1/pub/71-222-x/71-222-x2018002-eng.htm \n",
    "\n"
   ]
  },
  {
   "cell_type": "code",
   "execution_count": null,
   "id": "45d5ca92-4bc7-43cf-86e0-52271cd9d8b8",
   "metadata": {},
   "outputs": [],
   "source": []
  }
 ],
 "metadata": {
  "kernelspec": {
   "display_name": "R",
   "language": "R",
   "name": "ir"
  },
  "language_info": {
   "codemirror_mode": "r",
   "file_extension": ".r",
   "mimetype": "text/x-r-source",
   "name": "R",
   "pygments_lexer": "r",
   "version": "3.6.1"
  }
 },
 "nbformat": 4,
 "nbformat_minor": 5
}
