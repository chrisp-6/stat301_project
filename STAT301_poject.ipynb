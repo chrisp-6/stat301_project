{
 "cells": [
  {
   "cell_type": "code",
   "execution_count": 1,
   "id": "ce92eb73",
   "metadata": {},
   "outputs": [
    {
     "name": "stderr",
     "output_type": "stream",
     "text": [
      "Registered S3 methods overwritten by 'ggplot2':\n",
      "  method         from \n",
      "  [.quosures     rlang\n",
      "  c.quosures     rlang\n",
      "  print.quosures rlang\n",
      "\n",
      "Registered S3 method overwritten by 'rvest':\n",
      "  method            from\n",
      "  read_xml.response xml2\n",
      "\n",
      "-- \u001b[1mAttaching packages\u001b[22m ------------------------------------------------------------------------------- tidyverse 1.2.1 --\n",
      "\n",
      "\u001b[32mv\u001b[39m \u001b[34mggplot2\u001b[39m 3.1.1       \u001b[32mv\u001b[39m \u001b[34mpurrr  \u001b[39m 0.3.2  \n",
      "\u001b[32mv\u001b[39m \u001b[34mtibble \u001b[39m 2.1.1       \u001b[32mv\u001b[39m \u001b[34mdplyr  \u001b[39m 0.8.0.\u001b[31m1\u001b[39m\n",
      "\u001b[32mv\u001b[39m \u001b[34mtidyr  \u001b[39m 0.8.3       \u001b[32mv\u001b[39m \u001b[34mstringr\u001b[39m 1.4.0  \n",
      "\u001b[32mv\u001b[39m \u001b[34mreadr  \u001b[39m 1.3.1       \u001b[32mv\u001b[39m \u001b[34mforcats\u001b[39m 0.4.0  \n",
      "\n",
      "-- \u001b[1mConflicts\u001b[22m ---------------------------------------------------------------------------------- tidyverse_conflicts() --\n",
      "\u001b[31mx\u001b[39m \u001b[34mdplyr\u001b[39m::\u001b[32mfilter()\u001b[39m masks \u001b[34mstats\u001b[39m::filter()\n",
      "\u001b[31mx\u001b[39m \u001b[34mdplyr\u001b[39m::\u001b[32mlag()\u001b[39m    masks \u001b[34mstats\u001b[39m::lag()\n",
      "\n"
     ]
    }
   ],
   "source": [
    "library(tidyverse)"
   ]
  },
  {
   "cell_type": "code",
   "execution_count": 7,
   "id": "e16c8e1c",
   "metadata": {},
   "outputs": [
    {
     "data": {
      "text/html": [
       "<table>\n",
       "<thead><tr><th scope=col>age</th><th scope=col>workclass</th><th scope=col>fnlwgt</th><th scope=col>education</th><th scope=col>education.num</th><th scope=col>marital.status</th><th scope=col>occupation</th><th scope=col>relationship</th><th scope=col>race</th><th scope=col>sex</th><th scope=col>capital.gain</th><th scope=col>capital.loss</th><th scope=col>hours.per.week</th><th scope=col>native.country</th><th scope=col>income</th></tr></thead>\n",
       "<tbody>\n",
       "\t<tr><td>90                                                       </td><td><span style=white-space:pre-wrap>?      </span>          </td><td> 77053                                                   </td><td><span style=white-space:pre-wrap>HS-grad     </span>     </td><td> 9                                                       </td><td><span style=white-space:pre-wrap>Widowed  </span>        </td><td><span style=white-space:pre-wrap>?                </span></td><td>Not-in-family                                            </td><td>White                                                    </td><td>Female                                                   </td><td>0                                                        </td><td>4356                                                     </td><td>40                                                       </td><td>United-States                                            </td><td>&lt;=50K                                                 </td></tr>\n",
       "\t<tr><td>82                                                       </td><td>Private                                                  </td><td>132870                                                   </td><td><span style=white-space:pre-wrap>HS-grad     </span>     </td><td> 9                                                       </td><td><span style=white-space:pre-wrap>Widowed  </span>        </td><td><span style=white-space:pre-wrap>Exec-managerial  </span></td><td>Not-in-family                                            </td><td>White                                                    </td><td>Female                                                   </td><td>0                                                        </td><td>4356                                                     </td><td>18                                                       </td><td>United-States                                            </td><td>&lt;=50K                                                 </td></tr>\n",
       "\t<tr><td>66                                                       </td><td><span style=white-space:pre-wrap>?      </span>          </td><td>186061                                                   </td><td>Some-college                                             </td><td>10                                                       </td><td><span style=white-space:pre-wrap>Widowed  </span>        </td><td><span style=white-space:pre-wrap>?                </span></td><td><span style=white-space:pre-wrap>Unmarried    </span>    </td><td>Black                                                    </td><td>Female                                                   </td><td>0                                                        </td><td>4356                                                     </td><td>40                                                       </td><td>United-States                                            </td><td>&lt;=50K                                                 </td></tr>\n",
       "\t<tr><td>54                                                   </td><td>Private                                              </td><td>140359                                               </td><td><span style=white-space:pre-wrap>7th-8th     </span> </td><td> 4                                                   </td><td>Divorced                                             </td><td>Machine-op-inspct                                    </td><td><span style=white-space:pre-wrap>Unmarried    </span></td><td>White                                                </td><td>Female                                               </td><td>0                                                    </td><td>3900                                                 </td><td>40                                                   </td><td>United-States                                        </td><td>&lt;=50K                                             </td></tr>\n",
       "\t<tr><td>41                                                       </td><td>Private                                                  </td><td>264663                                                   </td><td>Some-college                                             </td><td>10                                                       </td><td>Separated                                                </td><td><span style=white-space:pre-wrap>Prof-specialty   </span></td><td><span style=white-space:pre-wrap>Own-child    </span>    </td><td>White                                                    </td><td>Female                                                   </td><td>0                                                        </td><td>3900                                                     </td><td>40                                                       </td><td>United-States                                            </td><td>&lt;=50K                                                 </td></tr>\n",
       "\t<tr><td>34                                                       </td><td>Private                                                  </td><td>216864                                                   </td><td><span style=white-space:pre-wrap>HS-grad     </span>     </td><td> 9                                                       </td><td>Divorced                                                 </td><td><span style=white-space:pre-wrap>Other-service    </span></td><td><span style=white-space:pre-wrap>Unmarried    </span>    </td><td>White                                                    </td><td>Female                                                   </td><td>0                                                        </td><td>3770                                                     </td><td>45                                                       </td><td>United-States                                            </td><td>&lt;=50K                                                 </td></tr>\n",
       "</tbody>\n",
       "</table>\n"
      ],
      "text/latex": [
       "\\begin{tabular}{r|lllllllllllllll}\n",
       " age & workclass & fnlwgt & education & education.num & marital.status & occupation & relationship & race & sex & capital.gain & capital.loss & hours.per.week & native.country & income\\\\\n",
       "\\hline\n",
       "\t 90                & ?                 &  77053            & HS-grad           &  9                & Widowed           & ?                 & Not-in-family     & White             & Female            & 0                 & 4356              & 40                & United-States     & <=50K            \\\\\n",
       "\t 82                & Private           & 132870            & HS-grad           &  9                & Widowed           & Exec-managerial   & Not-in-family     & White             & Female            & 0                 & 4356              & 18                & United-States     & <=50K            \\\\\n",
       "\t 66                & ?                 & 186061            & Some-college      & 10                & Widowed           & ?                 & Unmarried         & Black             & Female            & 0                 & 4356              & 40                & United-States     & <=50K            \\\\\n",
       "\t 54                & Private           & 140359            & 7th-8th           &  4                & Divorced          & Machine-op-inspct & Unmarried         & White             & Female            & 0                 & 3900              & 40                & United-States     & <=50K            \\\\\n",
       "\t 41                & Private           & 264663            & Some-college      & 10                & Separated         & Prof-specialty    & Own-child         & White             & Female            & 0                 & 3900              & 40                & United-States     & <=50K            \\\\\n",
       "\t 34                & Private           & 216864            & HS-grad           &  9                & Divorced          & Other-service     & Unmarried         & White             & Female            & 0                 & 3770              & 45                & United-States     & <=50K            \\\\\n",
       "\\end{tabular}\n"
      ],
      "text/markdown": [
       "\n",
       "| age | workclass | fnlwgt | education | education.num | marital.status | occupation | relationship | race | sex | capital.gain | capital.loss | hours.per.week | native.country | income |\n",
       "|---|---|---|---|---|---|---|---|---|---|---|---|---|---|---|\n",
       "| 90                | ?                 |  77053            | HS-grad           |  9                | Widowed           | ?                 | Not-in-family     | White             | Female            | 0                 | 4356              | 40                | United-States     | <=50K             |\n",
       "| 82                | Private           | 132870            | HS-grad           |  9                | Widowed           | Exec-managerial   | Not-in-family     | White             | Female            | 0                 | 4356              | 18                | United-States     | <=50K             |\n",
       "| 66                | ?                 | 186061            | Some-college      | 10                | Widowed           | ?                 | Unmarried         | Black             | Female            | 0                 | 4356              | 40                | United-States     | <=50K             |\n",
       "| 54                | Private           | 140359            | 7th-8th           |  4                | Divorced          | Machine-op-inspct | Unmarried         | White             | Female            | 0                 | 3900              | 40                | United-States     | <=50K             |\n",
       "| 41                | Private           | 264663            | Some-college      | 10                | Separated         | Prof-specialty    | Own-child         | White             | Female            | 0                 | 3900              | 40                | United-States     | <=50K             |\n",
       "| 34                | Private           | 216864            | HS-grad           |  9                | Divorced          | Other-service     | Unmarried         | White             | Female            | 0                 | 3770              | 45                | United-States     | <=50K             |\n",
       "\n"
      ],
      "text/plain": [
       "  age workclass fnlwgt education    education.num marital.status\n",
       "1 90  ?          77053 HS-grad       9            Widowed       \n",
       "2 82  Private   132870 HS-grad       9            Widowed       \n",
       "3 66  ?         186061 Some-college 10            Widowed       \n",
       "4 54  Private   140359 7th-8th       4            Divorced      \n",
       "5 41  Private   264663 Some-college 10            Separated     \n",
       "6 34  Private   216864 HS-grad       9            Divorced      \n",
       "  occupation        relationship  race  sex    capital.gain capital.loss\n",
       "1 ?                 Not-in-family White Female 0            4356        \n",
       "2 Exec-managerial   Not-in-family White Female 0            4356        \n",
       "3 ?                 Unmarried     Black Female 0            4356        \n",
       "4 Machine-op-inspct Unmarried     White Female 0            3900        \n",
       "5 Prof-specialty    Own-child     White Female 0            3900        \n",
       "6 Other-service     Unmarried     White Female 0            3770        \n",
       "  hours.per.week native.country income\n",
       "1 40             United-States  <=50K \n",
       "2 18             United-States  <=50K \n",
       "3 40             United-States  <=50K \n",
       "4 40             United-States  <=50K \n",
       "5 40             United-States  <=50K \n",
       "6 45             United-States  <=50K "
      ]
     },
     "metadata": {},
     "output_type": "display_data"
    }
   ],
   "source": [
    "adult_census <- read.csv('https://raw.githubusercontent.com/chrisp-6/stat301_project/main/adult.csv')\n",
    "head(adult_census)\n",
    "\n",
    "# data from https://www.kaggle.com/datasets/uciml/adult-census-income, downloaded locally first and added to github"
   ]
  },
  {
   "cell_type": "code",
   "execution_count": null,
   "id": "ac8113e3",
   "metadata": {},
   "outputs": [],
   "source": []
  }
 ],
 "metadata": {
  "kernelspec": {
   "display_name": "R",
   "language": "R",
   "name": "ir"
  },
  "language_info": {
   "codemirror_mode": "r",
   "file_extension": ".r",
   "mimetype": "text/x-r-source",
   "name": "R",
   "pygments_lexer": "r",
   "version": "3.6.1"
  }
 },
 "nbformat": 4,
 "nbformat_minor": 5
}
